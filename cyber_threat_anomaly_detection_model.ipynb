{
  "nbformat": 4,
  "nbformat_minor": 0,
  "metadata": {
    "colab": {
      "provenance": []
    },
    "kernelspec": {
      "name": "python3",
      "display_name": "Python 3"
    },
    "language_info": {
      "name": "python"
    }
  },
  "cells": [
    {
      "cell_type": "code",
      "execution_count": 15,
      "metadata": {
        "colab": {
          "base_uri": "https://localhost:8080/"
        },
        "id": "6V30-pvrzRa3",
        "outputId": "b1bd911c-8a51-4199-fb69-521890eb911c"
      },
      "outputs": [
        {
          "output_type": "stream",
          "name": "stderr",
          "text": [
            "[nltk_data] Downloading package stopwords to /root/nltk_data...\n",
            "[nltk_data]   Package stopwords is already up-to-date!\n",
            "[nltk_data] Downloading package wordnet to /root/nltk_data...\n",
            "[nltk_data]   Package wordnet is already up-to-date!\n"
          ]
        }
      ],
      "source": [
        "import pandas as pd\n",
        "import numpy as np\n",
        "import matplotlib.pyplot as plt\n",
        "import seaborn as sns\n",
        "from sklearn.model_selection import train_test_split\n",
        "from sklearn.feature_extraction.text import TfidfVectorizer\n",
        "from sklearn.preprocessing import LabelEncoder\n",
        "from sklearn.metrics import classification_report, confusion_matrix, accuracy_score\n",
        "from sklearn.ensemble import RandomForestClassifier\n",
        "from sklearn.svm import SVC\n",
        "from sklearn.naive_bayes import MultinomialNB\n",
        "from xgboost import XGBClassifier\n",
        "from sklearn.model_selection import GridSearchCV\n",
        "import nltk\n",
        "from nltk.corpus import stopwords\n",
        "from nltk.stem import WordNetLemmatizer\n",
        "import re\n",
        "import json\n",
        "\n",
        "# Download NLTK resources\n",
        "nltk.download('stopwords')\n",
        "nltk.download('wordnet')\n",
        "\n",
        "# Load the dataset\n",
        "df = pd.read_csv('/content/Cyber-Threat-Intelligence-Custom-Data_new_processed.csv')\n"
      ]
    },
    {
      "cell_type": "code",
      "source": [
        "# Display basic information\n",
        "df.head().T"
      ],
      "metadata": {
        "colab": {
          "base_uri": "https://localhost:8080/",
          "height": 897
        },
        "id": "wWELnpt1zkNV",
        "outputId": "e01ca0b9-6459-40cb-c8d7-b7dcd51df14d"
      },
      "execution_count": 16,
      "outputs": [
        {
          "output_type": "execute_result",
          "data": {
            "text/plain": [
              "                                                                0  \\\n",
              "id                                                            249   \n",
              "text            A cybersquatting domain save-russia[.]today is...   \n",
              "relations       [{'from_id': 44658, 'id': 9, 'to_id': 44659, '...   \n",
              "diagnosis       The diagnosis is a cyber attack that involves ...   \n",
              "solutions       1. Implementing DNS filtering to block access ...   \n",
              "id_1                                                        44656   \n",
              "label_1                                            attack-pattern   \n",
              "start_offset_1                                                  2   \n",
              "end_offset_1                                                   16   \n",
              "id_2                                                        44657   \n",
              "label_2                                                       url   \n",
              "start_offset_2                                                 24   \n",
              "end_offset_2                                                   43   \n",
              "id_3                                                      44658.0   \n",
              "label_3                                            attack-pattern   \n",
              "start_offset_3                                               57.0   \n",
              "end_offset_3                                                 68.0   \n",
              "\n",
              "                                                                1  \\\n",
              "id                                                          14309   \n",
              "text            Like the Android Maikspy, it first sends a not...   \n",
              "relations       [{'from_id': 48531, 'id': 445, 'to_id': 48532,...   \n",
              "diagnosis       The diagnosis is that the entity identified as...   \n",
              "solutions       1. Implementing a robust anti-malware software...   \n",
              "id_1                                                        48530   \n",
              "label_1                                                  SOFTWARE   \n",
              "start_offset_1                                                  9   \n",
              "end_offset_1                                                   17   \n",
              "id_2                                                        48531   \n",
              "label_2                                                   malware   \n",
              "start_offset_2                                                 17   \n",
              "end_offset_2                                                   24   \n",
              "id_3                                                      48532.0   \n",
              "label_3                                             Infrastucture   \n",
              "start_offset_3                                               63.0   \n",
              "end_offset_3                                                 73.0   \n",
              "\n",
              "                                                                2  \\\n",
              "id                                                          13996   \n",
              "text            While analyzing the technical details of this ...   \n",
              "relations       [{'from_id': 48781, 'id': 461, 'to_id': 48782,...   \n",
              "diagnosis       Diagnosis: APT37/Reaper/Group 123 is responsib...   \n",
              "solutions       1. Implementing advanced threat detection tech...   \n",
              "id_1                                                        48781   \n",
              "label_1                                              threat-actor   \n",
              "start_offset_1                                                188   \n",
              "end_offset_1                                                  194   \n",
              "id_2                                                        48782   \n",
              "label_2                                              threat-actor   \n",
              "start_offset_2                                                210   \n",
              "end_offset_2                                                  217   \n",
              "id_3                                                      48783.0   \n",
              "label_3                                              threat-actor   \n",
              "start_offset_3                                              220.0   \n",
              "end_offset_3                                                229.0   \n",
              "\n",
              "                                                                3  \\\n",
              "id                                                          13600   \n",
              "text            (Note that Flash has been declared end-of-life...   \n",
              "relations       [{'from_id': 51688, 'id': 1133, 'to_id': 51689...   \n",
              "diagnosis       The diagnosis is a malware infection. The enti...   \n",
              "solutions       1. Implementing a robust antivirus software th...   \n",
              "id_1                                                        51687   \n",
              "label_1                                                      TIME   \n",
              "start_offset_1                                                 62   \n",
              "end_offset_1                                                   79   \n",
              "id_2                                                        51688   \n",
              "label_2                                                   malware   \n",
              "start_offset_2                                                207   \n",
              "end_offset_2                                                  215   \n",
              "id_3                                                      51689.0   \n",
              "label_3                                                   malware   \n",
              "start_offset_3                                              247.0   \n",
              "end_offset_3                                                258.0   \n",
              "\n",
              "                                                                4  \n",
              "id                                                          14364  \n",
              "text            Figure 21. Connection of Maikspy variants to 1...  \n",
              "relations       [{'from_id': 51780, 'id': 1161, 'to_id': 44372...  \n",
              "diagnosis       The diagnosis is that Maikspy malware variants...  \n",
              "solutions       1. Implementing a robust firewall system that ...  \n",
              "id_1                                                        51779  \n",
              "label_1                                                       URL  \n",
              "start_offset_1                                                163  \n",
              "end_offset_1                                                  191  \n",
              "id_2                                                        51777  \n",
              "label_2                                                       URL  \n",
              "start_offset_2                                                 70  \n",
              "end_offset_2                                                   93  \n",
              "id_3                                                      51781.0  \n",
              "label_3                                                   malware  \n",
              "start_offset_3                                              120.0  \n",
              "end_offset_3                                                127.0  "
            ],
            "text/html": [
              "\n",
              "  <div id=\"df-c64358ac-439c-4237-94cb-366269bad94b\" class=\"colab-df-container\">\n",
              "    <div>\n",
              "<style scoped>\n",
              "    .dataframe tbody tr th:only-of-type {\n",
              "        vertical-align: middle;\n",
              "    }\n",
              "\n",
              "    .dataframe tbody tr th {\n",
              "        vertical-align: top;\n",
              "    }\n",
              "\n",
              "    .dataframe thead th {\n",
              "        text-align: right;\n",
              "    }\n",
              "</style>\n",
              "<table border=\"1\" class=\"dataframe\">\n",
              "  <thead>\n",
              "    <tr style=\"text-align: right;\">\n",
              "      <th></th>\n",
              "      <th>0</th>\n",
              "      <th>1</th>\n",
              "      <th>2</th>\n",
              "      <th>3</th>\n",
              "      <th>4</th>\n",
              "    </tr>\n",
              "  </thead>\n",
              "  <tbody>\n",
              "    <tr>\n",
              "      <th>id</th>\n",
              "      <td>249</td>\n",
              "      <td>14309</td>\n",
              "      <td>13996</td>\n",
              "      <td>13600</td>\n",
              "      <td>14364</td>\n",
              "    </tr>\n",
              "    <tr>\n",
              "      <th>text</th>\n",
              "      <td>A cybersquatting domain save-russia[.]today is...</td>\n",
              "      <td>Like the Android Maikspy, it first sends a not...</td>\n",
              "      <td>While analyzing the technical details of this ...</td>\n",
              "      <td>(Note that Flash has been declared end-of-life...</td>\n",
              "      <td>Figure 21. Connection of Maikspy variants to 1...</td>\n",
              "    </tr>\n",
              "    <tr>\n",
              "      <th>relations</th>\n",
              "      <td>[{'from_id': 44658, 'id': 9, 'to_id': 44659, '...</td>\n",
              "      <td>[{'from_id': 48531, 'id': 445, 'to_id': 48532,...</td>\n",
              "      <td>[{'from_id': 48781, 'id': 461, 'to_id': 48782,...</td>\n",
              "      <td>[{'from_id': 51688, 'id': 1133, 'to_id': 51689...</td>\n",
              "      <td>[{'from_id': 51780, 'id': 1161, 'to_id': 44372...</td>\n",
              "    </tr>\n",
              "    <tr>\n",
              "      <th>diagnosis</th>\n",
              "      <td>The diagnosis is a cyber attack that involves ...</td>\n",
              "      <td>The diagnosis is that the entity identified as...</td>\n",
              "      <td>Diagnosis: APT37/Reaper/Group 123 is responsib...</td>\n",
              "      <td>The diagnosis is a malware infection. The enti...</td>\n",
              "      <td>The diagnosis is that Maikspy malware variants...</td>\n",
              "    </tr>\n",
              "    <tr>\n",
              "      <th>solutions</th>\n",
              "      <td>1. Implementing DNS filtering to block access ...</td>\n",
              "      <td>1. Implementing a robust anti-malware software...</td>\n",
              "      <td>1. Implementing advanced threat detection tech...</td>\n",
              "      <td>1. Implementing a robust antivirus software th...</td>\n",
              "      <td>1. Implementing a robust firewall system that ...</td>\n",
              "    </tr>\n",
              "    <tr>\n",
              "      <th>id_1</th>\n",
              "      <td>44656</td>\n",
              "      <td>48530</td>\n",
              "      <td>48781</td>\n",
              "      <td>51687</td>\n",
              "      <td>51779</td>\n",
              "    </tr>\n",
              "    <tr>\n",
              "      <th>label_1</th>\n",
              "      <td>attack-pattern</td>\n",
              "      <td>SOFTWARE</td>\n",
              "      <td>threat-actor</td>\n",
              "      <td>TIME</td>\n",
              "      <td>URL</td>\n",
              "    </tr>\n",
              "    <tr>\n",
              "      <th>start_offset_1</th>\n",
              "      <td>2</td>\n",
              "      <td>9</td>\n",
              "      <td>188</td>\n",
              "      <td>62</td>\n",
              "      <td>163</td>\n",
              "    </tr>\n",
              "    <tr>\n",
              "      <th>end_offset_1</th>\n",
              "      <td>16</td>\n",
              "      <td>17</td>\n",
              "      <td>194</td>\n",
              "      <td>79</td>\n",
              "      <td>191</td>\n",
              "    </tr>\n",
              "    <tr>\n",
              "      <th>id_2</th>\n",
              "      <td>44657</td>\n",
              "      <td>48531</td>\n",
              "      <td>48782</td>\n",
              "      <td>51688</td>\n",
              "      <td>51777</td>\n",
              "    </tr>\n",
              "    <tr>\n",
              "      <th>label_2</th>\n",
              "      <td>url</td>\n",
              "      <td>malware</td>\n",
              "      <td>threat-actor</td>\n",
              "      <td>malware</td>\n",
              "      <td>URL</td>\n",
              "    </tr>\n",
              "    <tr>\n",
              "      <th>start_offset_2</th>\n",
              "      <td>24</td>\n",
              "      <td>17</td>\n",
              "      <td>210</td>\n",
              "      <td>207</td>\n",
              "      <td>70</td>\n",
              "    </tr>\n",
              "    <tr>\n",
              "      <th>end_offset_2</th>\n",
              "      <td>43</td>\n",
              "      <td>24</td>\n",
              "      <td>217</td>\n",
              "      <td>215</td>\n",
              "      <td>93</td>\n",
              "    </tr>\n",
              "    <tr>\n",
              "      <th>id_3</th>\n",
              "      <td>44658.0</td>\n",
              "      <td>48532.0</td>\n",
              "      <td>48783.0</td>\n",
              "      <td>51689.0</td>\n",
              "      <td>51781.0</td>\n",
              "    </tr>\n",
              "    <tr>\n",
              "      <th>label_3</th>\n",
              "      <td>attack-pattern</td>\n",
              "      <td>Infrastucture</td>\n",
              "      <td>threat-actor</td>\n",
              "      <td>malware</td>\n",
              "      <td>malware</td>\n",
              "    </tr>\n",
              "    <tr>\n",
              "      <th>start_offset_3</th>\n",
              "      <td>57.0</td>\n",
              "      <td>63.0</td>\n",
              "      <td>220.0</td>\n",
              "      <td>247.0</td>\n",
              "      <td>120.0</td>\n",
              "    </tr>\n",
              "    <tr>\n",
              "      <th>end_offset_3</th>\n",
              "      <td>68.0</td>\n",
              "      <td>73.0</td>\n",
              "      <td>229.0</td>\n",
              "      <td>258.0</td>\n",
              "      <td>127.0</td>\n",
              "    </tr>\n",
              "  </tbody>\n",
              "</table>\n",
              "</div>\n",
              "    <div class=\"colab-df-buttons\">\n",
              "\n",
              "  <div class=\"colab-df-container\">\n",
              "    <button class=\"colab-df-convert\" onclick=\"convertToInteractive('df-c64358ac-439c-4237-94cb-366269bad94b')\"\n",
              "            title=\"Convert this dataframe to an interactive table.\"\n",
              "            style=\"display:none;\">\n",
              "\n",
              "  <svg xmlns=\"http://www.w3.org/2000/svg\" height=\"24px\" viewBox=\"0 -960 960 960\">\n",
              "    <path d=\"M120-120v-720h720v720H120Zm60-500h600v-160H180v160Zm220 220h160v-160H400v160Zm0 220h160v-160H400v160ZM180-400h160v-160H180v160Zm440 0h160v-160H620v160ZM180-180h160v-160H180v160Zm440 0h160v-160H620v160Z\"/>\n",
              "  </svg>\n",
              "    </button>\n",
              "\n",
              "  <style>\n",
              "    .colab-df-container {\n",
              "      display:flex;\n",
              "      gap: 12px;\n",
              "    }\n",
              "\n",
              "    .colab-df-convert {\n",
              "      background-color: #E8F0FE;\n",
              "      border: none;\n",
              "      border-radius: 50%;\n",
              "      cursor: pointer;\n",
              "      display: none;\n",
              "      fill: #1967D2;\n",
              "      height: 32px;\n",
              "      padding: 0 0 0 0;\n",
              "      width: 32px;\n",
              "    }\n",
              "\n",
              "    .colab-df-convert:hover {\n",
              "      background-color: #E2EBFA;\n",
              "      box-shadow: 0px 1px 2px rgba(60, 64, 67, 0.3), 0px 1px 3px 1px rgba(60, 64, 67, 0.15);\n",
              "      fill: #174EA6;\n",
              "    }\n",
              "\n",
              "    .colab-df-buttons div {\n",
              "      margin-bottom: 4px;\n",
              "    }\n",
              "\n",
              "    [theme=dark] .colab-df-convert {\n",
              "      background-color: #3B4455;\n",
              "      fill: #D2E3FC;\n",
              "    }\n",
              "\n",
              "    [theme=dark] .colab-df-convert:hover {\n",
              "      background-color: #434B5C;\n",
              "      box-shadow: 0px 1px 3px 1px rgba(0, 0, 0, 0.15);\n",
              "      filter: drop-shadow(0px 1px 2px rgba(0, 0, 0, 0.3));\n",
              "      fill: #FFFFFF;\n",
              "    }\n",
              "  </style>\n",
              "\n",
              "    <script>\n",
              "      const buttonEl =\n",
              "        document.querySelector('#df-c64358ac-439c-4237-94cb-366269bad94b button.colab-df-convert');\n",
              "      buttonEl.style.display =\n",
              "        google.colab.kernel.accessAllowed ? 'block' : 'none';\n",
              "\n",
              "      async function convertToInteractive(key) {\n",
              "        const element = document.querySelector('#df-c64358ac-439c-4237-94cb-366269bad94b');\n",
              "        const dataTable =\n",
              "          await google.colab.kernel.invokeFunction('convertToInteractive',\n",
              "                                                    [key], {});\n",
              "        if (!dataTable) return;\n",
              "\n",
              "        const docLinkHtml = 'Like what you see? Visit the ' +\n",
              "          '<a target=\"_blank\" href=https://colab.research.google.com/notebooks/data_table.ipynb>data table notebook</a>'\n",
              "          + ' to learn more about interactive tables.';\n",
              "        element.innerHTML = '';\n",
              "        dataTable['output_type'] = 'display_data';\n",
              "        await google.colab.output.renderOutput(dataTable, element);\n",
              "        const docLink = document.createElement('div');\n",
              "        docLink.innerHTML = docLinkHtml;\n",
              "        element.appendChild(docLink);\n",
              "      }\n",
              "    </script>\n",
              "  </div>\n",
              "\n",
              "\n",
              "    <div id=\"df-e34bb8c7-2b02-4998-bde2-af8c720c34fa\">\n",
              "      <button class=\"colab-df-quickchart\" onclick=\"quickchart('df-e34bb8c7-2b02-4998-bde2-af8c720c34fa')\"\n",
              "                title=\"Suggest charts\"\n",
              "                style=\"display:none;\">\n",
              "\n",
              "<svg xmlns=\"http://www.w3.org/2000/svg\" height=\"24px\"viewBox=\"0 0 24 24\"\n",
              "     width=\"24px\">\n",
              "    <g>\n",
              "        <path d=\"M19 3H5c-1.1 0-2 .9-2 2v14c0 1.1.9 2 2 2h14c1.1 0 2-.9 2-2V5c0-1.1-.9-2-2-2zM9 17H7v-7h2v7zm4 0h-2V7h2v10zm4 0h-2v-4h2v4z\"/>\n",
              "    </g>\n",
              "</svg>\n",
              "      </button>\n",
              "\n",
              "<style>\n",
              "  .colab-df-quickchart {\n",
              "      --bg-color: #E8F0FE;\n",
              "      --fill-color: #1967D2;\n",
              "      --hover-bg-color: #E2EBFA;\n",
              "      --hover-fill-color: #174EA6;\n",
              "      --disabled-fill-color: #AAA;\n",
              "      --disabled-bg-color: #DDD;\n",
              "  }\n",
              "\n",
              "  [theme=dark] .colab-df-quickchart {\n",
              "      --bg-color: #3B4455;\n",
              "      --fill-color: #D2E3FC;\n",
              "      --hover-bg-color: #434B5C;\n",
              "      --hover-fill-color: #FFFFFF;\n",
              "      --disabled-bg-color: #3B4455;\n",
              "      --disabled-fill-color: #666;\n",
              "  }\n",
              "\n",
              "  .colab-df-quickchart {\n",
              "    background-color: var(--bg-color);\n",
              "    border: none;\n",
              "    border-radius: 50%;\n",
              "    cursor: pointer;\n",
              "    display: none;\n",
              "    fill: var(--fill-color);\n",
              "    height: 32px;\n",
              "    padding: 0;\n",
              "    width: 32px;\n",
              "  }\n",
              "\n",
              "  .colab-df-quickchart:hover {\n",
              "    background-color: var(--hover-bg-color);\n",
              "    box-shadow: 0 1px 2px rgba(60, 64, 67, 0.3), 0 1px 3px 1px rgba(60, 64, 67, 0.15);\n",
              "    fill: var(--button-hover-fill-color);\n",
              "  }\n",
              "\n",
              "  .colab-df-quickchart-complete:disabled,\n",
              "  .colab-df-quickchart-complete:disabled:hover {\n",
              "    background-color: var(--disabled-bg-color);\n",
              "    fill: var(--disabled-fill-color);\n",
              "    box-shadow: none;\n",
              "  }\n",
              "\n",
              "  .colab-df-spinner {\n",
              "    border: 2px solid var(--fill-color);\n",
              "    border-color: transparent;\n",
              "    border-bottom-color: var(--fill-color);\n",
              "    animation:\n",
              "      spin 1s steps(1) infinite;\n",
              "  }\n",
              "\n",
              "  @keyframes spin {\n",
              "    0% {\n",
              "      border-color: transparent;\n",
              "      border-bottom-color: var(--fill-color);\n",
              "      border-left-color: var(--fill-color);\n",
              "    }\n",
              "    20% {\n",
              "      border-color: transparent;\n",
              "      border-left-color: var(--fill-color);\n",
              "      border-top-color: var(--fill-color);\n",
              "    }\n",
              "    30% {\n",
              "      border-color: transparent;\n",
              "      border-left-color: var(--fill-color);\n",
              "      border-top-color: var(--fill-color);\n",
              "      border-right-color: var(--fill-color);\n",
              "    }\n",
              "    40% {\n",
              "      border-color: transparent;\n",
              "      border-right-color: var(--fill-color);\n",
              "      border-top-color: var(--fill-color);\n",
              "    }\n",
              "    60% {\n",
              "      border-color: transparent;\n",
              "      border-right-color: var(--fill-color);\n",
              "    }\n",
              "    80% {\n",
              "      border-color: transparent;\n",
              "      border-right-color: var(--fill-color);\n",
              "      border-bottom-color: var(--fill-color);\n",
              "    }\n",
              "    90% {\n",
              "      border-color: transparent;\n",
              "      border-bottom-color: var(--fill-color);\n",
              "    }\n",
              "  }\n",
              "</style>\n",
              "\n",
              "      <script>\n",
              "        async function quickchart(key) {\n",
              "          const quickchartButtonEl =\n",
              "            document.querySelector('#' + key + ' button');\n",
              "          quickchartButtonEl.disabled = true;  // To prevent multiple clicks.\n",
              "          quickchartButtonEl.classList.add('colab-df-spinner');\n",
              "          try {\n",
              "            const charts = await google.colab.kernel.invokeFunction(\n",
              "                'suggestCharts', [key], {});\n",
              "          } catch (error) {\n",
              "            console.error('Error during call to suggestCharts:', error);\n",
              "          }\n",
              "          quickchartButtonEl.classList.remove('colab-df-spinner');\n",
              "          quickchartButtonEl.classList.add('colab-df-quickchart-complete');\n",
              "        }\n",
              "        (() => {\n",
              "          let quickchartButtonEl =\n",
              "            document.querySelector('#df-e34bb8c7-2b02-4998-bde2-af8c720c34fa button');\n",
              "          quickchartButtonEl.style.display =\n",
              "            google.colab.kernel.accessAllowed ? 'block' : 'none';\n",
              "        })();\n",
              "      </script>\n",
              "    </div>\n",
              "\n",
              "    </div>\n",
              "  </div>\n"
            ],
            "application/vnd.google.colaboratory.intrinsic+json": {
              "type": "dataframe",
              "variable_name": "df",
              "summary": "{\n  \"name\": \"df\",\n  \"rows\": 476,\n  \"fields\": [\n    {\n      \"column\": \"id\",\n      \"properties\": {\n        \"dtype\": \"number\",\n        \"std\": 4178,\n        \"min\": 105,\n        \"max\": 14408,\n        \"num_unique_values\": 404,\n        \"samples\": [\n          3417,\n          1903,\n          13026\n        ],\n        \"semantic_type\": \"\",\n        \"description\": \"\"\n      }\n    },\n    {\n      \"column\": \"text\",\n      \"properties\": {\n        \"dtype\": \"string\",\n        \"num_unique_values\": 391,\n        \"samples\": [\n          \" A malicious RTF file that exploits the CVE-2017-8750 and drops a malicious VB backdoor with C&C appswonder[.]info A malicious InPage file that exploits CVE-2017-12824 and drops two files, one non-malicious, and one malicious VB backdoor with C&C referfile[.]com  Talos recently reported both C&C domain names with one type of campaign that targets iOS and involves MDM, and another type using VB and Delphi backdoors.\",\n          \"The exploit chain combined an RCE in WebKit exploiting CVE-2021-1789 which was patched on Jan 5, 2021 before discovery of this campaign and a 0-day local privilege escalation in XNU (CVE-2021-30869) patched on Sept 23, 2021.\",\n          \"Last year we highlighted two malware families on this blog: CryptoWall 2.0 and Dyreza/Dyre.\"\n        ],\n        \"semantic_type\": \"\",\n        \"description\": \"\"\n      }\n    },\n    {\n      \"column\": \"relations\",\n      \"properties\": {\n        \"dtype\": \"string\",\n        \"num_unique_values\": 404,\n        \"samples\": [\n          \"[{'from_id': 10305, 'id': 709, 'to_id': 49106, 'type': 'duplicate-of'}, {'from_id': 10306, 'id': 711, 'to_id': 49106, 'type': 'indicates'}, {'from_id': 49107, 'id': 710, 'to_id': 10306, 'type': 'duplicate-of'}, {'from_id': 49107, 'id': 712, 'to_id': 49106, 'type': 'indicates'}]\",\n          \"[{'from_id': 47029, 'id': 290, 'to_id': 47030, 'type': 'uses'}]\",\n          \"[{'from_id': 48861, 'id': 482, 'to_id': 48863, 'type': 'located-at'}, {'from_id': 48860, 'id': 484, 'to_id': 48862, 'type': 'targets'}, {'from_id': 48860, 'id': 483, 'to_id': 48861, 'type': 'targets'}]\"\n        ],\n        \"semantic_type\": \"\",\n        \"description\": \"\"\n      }\n    },\n    {\n      \"column\": \"diagnosis\",\n      \"properties\": {\n        \"dtype\": \"string\",\n        \"num_unique_values\": 430,\n        \"samples\": [\n          \"Possible diagnosis: The entity DragonOK has been associated with the creation of three malware backdoors, NFlog, PoisonIvy, and NewCT, as they were previously publicly linked to this threat actor. This suggests that DragonOK may be involved in\",\n          \"Diagnosis: Malware Development and Dissemination  Entity: Mohammed Benabdellah  Relationship: Authored-by H-Worm malware\",\n          \"Diagnosis: APT28 or Fancy Bear, a threat actor attributed to Russia GRU, targeted users in Ukraine with a new variant of malware. The location of the targeted users is Ukraine, and the identity of the threat actor is APT28\"\n        ],\n        \"semantic_type\": \"\",\n        \"description\": \"\"\n      }\n    },\n    {\n      \"column\": \"solutions\",\n      \"properties\": {\n        \"dtype\": \"string\",\n        \"num_unique_values\": 432,\n        \"samples\": [\n          \"1. Implementing strong network security measures such as firewalls, intrusion detection and prevention systems, and endpoint protection to prevent unauthorized access and detect any suspicious activity.  2. Conducting regular vulnerability assessments and penetration testing to identify and address any potential weaknesses in the system.  3. Educating employees on cybersecurity best practices such as avoiding suspicious emails and links, using strong passwords, and being vigilant for any unusual activity on their devices.  4. Utilizing threat intelligence services to stay up-to-date on the latest\",\n          \"1. Implement regular security audits and vulnerability assessments to detect and prevent malware development and dissemination. 2. Use advanced threat intelligence solutions to monitor and identify potential malware threats. 3. Implement strict access controls and permissions to prevent unauthorized access to sensitive systems and data. 4. Train employees on cybersecurity best practices and the risks associated with malware, including how to identify and report suspicious activity. 5. Deploy advanced endpoint protection solutions that can detect and prevent malware infections. 6. Establish incident response plans and procedures to quickly\",\n          \"1. Patching and updating vulnerable systems to prevent exploitation of known vulnerabilities such as ETERNALBLUE and DOUBLEPULSAR. 2. Implementing network segmentation and access controls to limit the spread of malware and prevent lateral movement within the network. 3. Deploying endpoint protection solutions such as antivirus and intrusion detection/prevention systems to detect and block malicious activity. 4. Conducting regular vulnerability assessments and penetration testing to identify and address potential weaknesses in the network. 5. Training employees on cybersecurity best practices\"\n        ],\n        \"semantic_type\": \"\",\n        \"description\": \"\"\n      }\n    },\n    {\n      \"column\": \"id_1\",\n      \"properties\": {\n        \"dtype\": \"number\",\n        \"std\": 16171,\n        \"min\": 377,\n        \"max\": 51779,\n        \"num_unique_values\": 404,\n        \"samples\": [\n          10305,\n          47030,\n          48860\n        ],\n        \"semantic_type\": \"\",\n        \"description\": \"\"\n      }\n    },\n    {\n      \"column\": \"label_1\",\n      \"properties\": {\n        \"dtype\": \"category\",\n        \"num_unique_values\": 17,\n        \"samples\": [\n          \"attack-pattern\",\n          \"SOFTWARE\",\n          \"location\"\n        ],\n        \"semantic_type\": \"\",\n        \"description\": \"\"\n      }\n    },\n    {\n      \"column\": \"start_offset_1\",\n      \"properties\": {\n        \"dtype\": \"number\",\n        \"std\": 62,\n        \"min\": 0,\n        \"max\": 428,\n        \"num_unique_values\": 157,\n        \"samples\": [\n          101,\n          14,\n          200\n        ],\n        \"semantic_type\": \"\",\n        \"description\": \"\"\n      }\n    },\n    {\n      \"column\": \"end_offset_1\",\n      \"properties\": {\n        \"dtype\": \"number\",\n        \"std\": 64,\n        \"min\": 4,\n        \"max\": 451,\n        \"num_unique_values\": 164,\n        \"samples\": [\n          20,\n          23,\n          109\n        ],\n        \"semantic_type\": \"\",\n        \"description\": \"\"\n      }\n    },\n    {\n      \"column\": \"id_2\",\n      \"properties\": {\n        \"dtype\": \"number\",\n        \"std\": 13357,\n        \"min\": 771,\n        \"max\": 51777,\n        \"num_unique_values\": 404,\n        \"samples\": [\n          10306,\n          47029,\n          48861\n        ],\n        \"semantic_type\": \"\",\n        \"description\": \"\"\n      }\n    },\n    {\n      \"column\": \"label_2\",\n      \"properties\": {\n        \"dtype\": \"category\",\n        \"num_unique_values\": 17,\n        \"samples\": [\n          \"url\",\n          \"malware\",\n          \"attack-pattern\"\n        ],\n        \"semantic_type\": \"\",\n        \"description\": \"\"\n      }\n    },\n    {\n      \"column\": \"start_offset_2\",\n      \"properties\": {\n        \"dtype\": \"number\",\n        \"std\": 68,\n        \"min\": 0,\n        \"max\": 471,\n        \"num_unique_values\": 172,\n        \"samples\": [\n          94,\n          385,\n          166\n        ],\n        \"semantic_type\": \"\",\n        \"description\": \"\"\n      }\n    },\n    {\n      \"column\": \"end_offset_2\",\n      \"properties\": {\n        \"dtype\": \"number\",\n        \"std\": 71,\n        \"min\": 4,\n        \"max\": 535,\n        \"num_unique_values\": 180,\n        \"samples\": [\n          113,\n          155,\n          140\n        ],\n        \"semantic_type\": \"\",\n        \"description\": \"\"\n      }\n    },\n    {\n      \"column\": \"id_3\",\n      \"properties\": {\n        \"dtype\": \"number\",\n        \"std\": 10795.967066743087,\n        \"min\": 976.0,\n        \"max\": 51781.0,\n        \"num_unique_values\": 285,\n        \"samples\": [\n          50425.0,\n          51093.0,\n          49034.0\n        ],\n        \"semantic_type\": \"\",\n        \"description\": \"\"\n      }\n    },\n    {\n      \"column\": \"label_3\",\n      \"properties\": {\n        \"dtype\": \"category\",\n        \"num_unique_values\": 17,\n        \"samples\": [\n          \"attack-pattern\",\n          \"Infrastucture\",\n          \"location\"\n        ],\n        \"semantic_type\": \"\",\n        \"description\": \"\"\n      }\n    },\n    {\n      \"column\": \"start_offset_3\",\n      \"properties\": {\n        \"dtype\": \"number\",\n        \"std\": 88.73076051302758,\n        \"min\": 0.0,\n        \"max\": 601.0,\n        \"num_unique_values\": 163,\n        \"samples\": [\n          156.0,\n          578.0,\n          216.0\n        ],\n        \"semantic_type\": \"\",\n        \"description\": \"\"\n      }\n    },\n    {\n      \"column\": \"end_offset_3\",\n      \"properties\": {\n        \"dtype\": \"number\",\n        \"std\": 90.99150326239271,\n        \"min\": 5.0,\n        \"max\": 665.0,\n        \"num_unique_values\": 159,\n        \"samples\": [\n          155.0,\n          10.0,\n          190.0\n        ],\n        \"semantic_type\": \"\",\n        \"description\": \"\"\n      }\n    }\n  ]\n}"
            }
          },
          "metadata": {},
          "execution_count": 16
        }
      ]
    },
    {
      "cell_type": "code",
      "source": [
        "df.info()"
      ],
      "metadata": {
        "colab": {
          "base_uri": "https://localhost:8080/"
        },
        "id": "EYMfqx4azr36",
        "outputId": "b3912a70-c35e-4505-f919-f3d135fe4ff6"
      },
      "execution_count": 17,
      "outputs": [
        {
          "output_type": "stream",
          "name": "stdout",
          "text": [
            "<class 'pandas.core.frame.DataFrame'>\n",
            "RangeIndex: 476 entries, 0 to 475\n",
            "Data columns (total 17 columns):\n",
            " #   Column          Non-Null Count  Dtype  \n",
            "---  ------          --------------  -----  \n",
            " 0   id              476 non-null    int64  \n",
            " 1   text            476 non-null    object \n",
            " 2   relations       476 non-null    object \n",
            " 3   diagnosis       475 non-null    object \n",
            " 4   solutions       476 non-null    object \n",
            " 5   id_1            476 non-null    int64  \n",
            " 6   label_1         476 non-null    object \n",
            " 7   start_offset_1  476 non-null    int64  \n",
            " 8   end_offset_1    476 non-null    int64  \n",
            " 9   id_2            476 non-null    int64  \n",
            " 10  label_2         476 non-null    object \n",
            " 11  start_offset_2  476 non-null    int64  \n",
            " 12  end_offset_2    476 non-null    int64  \n",
            " 13  id_3            329 non-null    float64\n",
            " 14  label_3         329 non-null    object \n",
            " 15  start_offset_3  329 non-null    float64\n",
            " 16  end_offset_3    329 non-null    float64\n",
            "dtypes: float64(3), int64(7), object(7)\n",
            "memory usage: 63.3+ KB\n"
          ]
        }
      ]
    },
    {
      "cell_type": "markdown",
      "source": [
        "Handling Missing Values"
      ],
      "metadata": {
        "id": "Q5WF9Lp33xSs"
      }
    },
    {
      "cell_type": "code",
      "source": [
        "# Check for null values\n",
        "print(df.isnull().sum())\n",
        "\n",
        "# Handle missing values\n",
        "# For text columns, fill with empty string\n",
        "text_columns = ['text', 'diagnosis', 'solutions']\n",
        "for col in text_columns:\n",
        "    df[col] = df[col].fillna('')\n",
        "\n",
        "# For categorical columns, fill with 'unknown'\n",
        "categorical_columns = ['label_1', 'label_2', 'label_3']\n",
        "for col in categorical_columns:\n",
        "    df[col] = df[col].fillna('unknown')\n",
        "\n",
        "# For numerical columns, fill with median\n",
        "numerical_columns = ['start_offset_1', 'end_offset_1', 'start_offset_2', 'end_offset_2']\n",
        "for col in numerical_columns:\n",
        "    median_val = df[col].median()\n",
        "    df[col] = df[col].fillna(median_val)"
      ],
      "metadata": {
        "colab": {
          "base_uri": "https://localhost:8080/"
        },
        "id": "xwNJF2mrzuKl",
        "outputId": "bd47650c-1ba7-4727-b961-2dcca0dc85b7"
      },
      "execution_count": 18,
      "outputs": [
        {
          "output_type": "stream",
          "name": "stdout",
          "text": [
            "id                  0\n",
            "text                0\n",
            "relations           0\n",
            "diagnosis           1\n",
            "solutions           0\n",
            "id_1                0\n",
            "label_1             0\n",
            "start_offset_1      0\n",
            "end_offset_1        0\n",
            "id_2                0\n",
            "label_2             0\n",
            "start_offset_2      0\n",
            "end_offset_2        0\n",
            "id_3              147\n",
            "label_3           147\n",
            "start_offset_3    147\n",
            "end_offset_3      147\n",
            "dtype: int64\n"
          ]
        }
      ]
    },
    {
      "cell_type": "markdown",
      "source": [
        "Feature Engineering\n",
        "We'll create features from both the structured data and text data.\n",
        "\n",
        ".1 Text Preprocessing"
      ],
      "metadata": {
        "id": "7XZFJOYL32wQ"
      }
    },
    {
      "cell_type": "code",
      "source": [
        "# Text cleaning function\n",
        "def clean_text(text):\n",
        "    # Convert to lowercase\n",
        "    text = text.lower()\n",
        "    # Remove special characters and numbers\n",
        "    text = re.sub(r'[^a-zA-Z\\s]', '', text)\n",
        "    # Remove extra whitespace\n",
        "    text = ' '.join(text.split())\n",
        "    return text\n",
        "\n",
        "# Lemmatization function\n",
        "lemmatizer = WordNetLemmatizer()\n",
        "stop_words = set(stopwords.words('english'))\n",
        "\n",
        "def lemmatize_text(text):\n",
        "    words = text.split()\n",
        "    words = [lemmatizer.lemmatize(word) for word in words if word not in stop_words]\n",
        "    return ' '.join(words)\n",
        "\n",
        "# Apply text cleaning\n",
        "df['clean_text'] = df['text'].apply(clean_text)\n",
        "df['clean_diagnosis'] = df['diagnosis'].apply(clean_text)\n",
        "df['clean_solutions'] = df['solutions'].apply(clean_text)\n",
        "\n",
        "# Combine all text features\n",
        "df['combined_text'] = df['clean_text'] + ' ' + df['clean_diagnosis'] + ' ' + df['clean_solutions']\n",
        "\n",
        "# Apply lemmatization\n",
        "df['processed_text'] = df['combined_text'].apply(lemmatize_text)"
      ],
      "metadata": {
        "id": "-RcLlwnb31vg"
      },
      "execution_count": 19,
      "outputs": []
    },
    {
      "cell_type": "markdown",
      "source": [
        ".2 Structured Feature Extraction"
      ],
      "metadata": {
        "id": "pB1eyq4D3-Wc"
      }
    },
    {
      "cell_type": "code",
      "source": [
        "# Extract threat types from labels\n",
        "def extract_threat_type(row):\n",
        "    labels = [row['label_1'], row['label_2'], row['label_3']]\n",
        "    if 'malware' in labels:\n",
        "        return 'malware'\n",
        "    elif 'attack-pattern' in labels:\n",
        "        return 'attack_pattern'\n",
        "    elif 'vulnerability' in labels:\n",
        "        return 'vulnerability'\n",
        "    elif 'threat-actor' in labels:\n",
        "        return 'threat_actor'\n",
        "    else:\n",
        "        return 'other'\n",
        "\n",
        "df['threat_type'] = df.apply(extract_threat_type, axis=1)\n",
        "\n",
        "# Extract severity from diagnosis (simple heuristic)\n",
        "def extract_severity(diagnosis):\n",
        "    diagnosis = diagnosis.lower()\n",
        "    if 'critical' in diagnosis or 'severe' in diagnosis:\n",
        "        return 'high'\n",
        "    elif 'moderate' in diagnosis or 'medium' in diagnosis:\n",
        "        return 'medium'\n",
        "    else:\n",
        "        return 'low'\n",
        "\n",
        "df['severity'] = df['diagnosis'].apply(extract_severity)\n",
        "\n",
        "# Extract solution count\n",
        "df['solution_count'] = df['solutions'].apply(lambda x: len(x.split('.'))) - 1\n",
        "\n",
        "# Extract text length features\n",
        "df['text_length'] = df['text'].apply(len)\n",
        "df['diagnosis_length'] = df['diagnosis'].apply(len)\n",
        "df['solutions_length'] = df['solutions'].apply(len)"
      ],
      "metadata": {
        "id": "jKbBPPoOzyv4"
      },
      "execution_count": 21,
      "outputs": []
    },
    {
      "cell_type": "markdown",
      "source": [
        "3 Target Variable Creation\n",
        "We'll use the 'threat_type' as our target variable for classification."
      ],
      "metadata": {
        "id": "WFc-ddnR40dc"
      }
    },
    {
      "cell_type": "code",
      "source": [
        "# Encode the target variable\n",
        "label_encoder = LabelEncoder()\n",
        "df['threat_type_encoded'] = label_encoder.fit_transform(df['threat_type'])\n",
        "\n",
        "# Display class distribution\n",
        "print(df['threat_type'].value_counts())"
      ],
      "metadata": {
        "colab": {
          "base_uri": "https://localhost:8080/"
        },
        "id": "52S1XFfaz1OP",
        "outputId": "ae51f854-b472-474b-b54e-6c60c41f3b40"
      },
      "execution_count": 22,
      "outputs": [
        {
          "output_type": "stream",
          "name": "stdout",
          "text": [
            "threat_type\n",
            "malware           225\n",
            "attack_pattern     73\n",
            "other              66\n",
            "threat_actor       64\n",
            "vulnerability      48\n",
            "Name: count, dtype: int64\n"
          ]
        }
      ]
    },
    {
      "cell_type": "markdown",
      "source": [
        "Feature Selection"
      ],
      "metadata": {
        "id": "7tR_iqkS46Uz"
      }
    },
    {
      "cell_type": "code",
      "source": [
        "# Text feature vectorization\n",
        "tfidf_vectorizer = TfidfVectorizer(max_features=1000)\n",
        "text_features = tfidf_vectorizer.fit_transform(df['processed_text'])\n",
        "\n",
        "# Structured features\n",
        "structured_features = df[['solution_count', 'text_length', 'diagnosis_length', 'solutions_length']]\n",
        "\n",
        "# Encode categorical features\n",
        "severity_encoded = pd.get_dummies(df['severity'], prefix='severity')\n",
        "\n",
        "# Combine all features\n",
        "from scipy.sparse import hstack\n",
        "X = hstack([text_features, structured_features, severity_encoded])\n",
        "y = df['threat_type_encoded']\n",
        "\n",
        "# Split data into train and test sets\n",
        "X_train, X_test, y_train, y_test = train_test_split(X, y, test_size=0.2, random_state=42, stratify=y)"
      ],
      "metadata": {
        "id": "VRQeJXNJz3UQ"
      },
      "execution_count": 23,
      "outputs": []
    },
    {
      "cell_type": "markdown",
      "source": [
        "Model Training\n",
        "We'll train several supervised models and compare their performance."
      ],
      "metadata": {
        "id": "pvLwCxu-5DKL"
      }
    },
    {
      "cell_type": "markdown",
      "source": [
        ".1 Random Forest Classifier\n",
        "python\n"
      ],
      "metadata": {
        "id": "8FzVOImO5Gke"
      }
    },
    {
      "cell_type": "code",
      "source": [
        "# Random Forest\n",
        "rf_model = RandomForestClassifier(n_estimators=100, random_state=42)\n",
        "rf_model.fit(X_train, y_train)\n",
        "\n",
        "# Predictions\n",
        "y_pred_rf = rf_model.predict(X_test)\n",
        "\n",
        "# Evaluation\n",
        "print(\"Random Forest Classifier:\")\n",
        "print(classification_report(y_test, y_pred_rf, target_names=label_encoder.classes_))\n",
        "print(\"Accuracy:\", accuracy_score(y_test, y_pred_rf))"
      ],
      "metadata": {
        "colab": {
          "base_uri": "https://localhost:8080/"
        },
        "id": "b6u6ODaQz55w",
        "outputId": "1d741d99-e953-4cfc-adbb-c3fc5fb7aec3"
      },
      "execution_count": 24,
      "outputs": [
        {
          "output_type": "stream",
          "name": "stdout",
          "text": [
            "Random Forest Classifier:\n",
            "                precision    recall  f1-score   support\n",
            "\n",
            "attack_pattern       0.91      0.67      0.77        15\n",
            "       malware       0.76      1.00      0.87        45\n",
            "         other       0.86      0.46      0.60        13\n",
            "  threat_actor       1.00      0.77      0.87        13\n",
            " vulnerability       0.78      0.70      0.74        10\n",
            "\n",
            "      accuracy                           0.81        96\n",
            "     macro avg       0.86      0.72      0.77        96\n",
            "  weighted avg       0.83      0.81      0.80        96\n",
            "\n",
            "Accuracy: 0.8125\n"
          ]
        }
      ]
    },
    {
      "cell_type": "markdown",
      "source": [
        " Support Vector Machine (SVM)"
      ],
      "metadata": {
        "id": "hm2dZIxv5Lp_"
      }
    },
    {
      "cell_type": "code",
      "source": [
        "# SVM\n",
        "svm_model = SVC(kernel='linear', probability=True, random_state=42)\n",
        "svm_model.fit(X_train, y_train)\n",
        "\n",
        "# Predictions\n",
        "y_pred_svm = svm_model.predict(X_test)\n",
        "\n",
        "# Evaluation\n",
        "print(\"Support Vector Machine:\")\n",
        "print(classification_report(y_test, y_pred_svm, target_names=label_encoder.classes_))\n",
        "print(\"Accuracy:\", accuracy_score(y_test, y_pred_svm))"
      ],
      "metadata": {
        "colab": {
          "base_uri": "https://localhost:8080/"
        },
        "id": "QeW6rlUD5I5U",
        "outputId": "c40beec6-9aad-4e43-c4d4-c6bac8b4058c"
      },
      "execution_count": 25,
      "outputs": [
        {
          "output_type": "stream",
          "name": "stdout",
          "text": [
            "Support Vector Machine:\n",
            "                precision    recall  f1-score   support\n",
            "\n",
            "attack_pattern       0.67      0.67      0.67        15\n",
            "       malware       0.83      0.89      0.86        45\n",
            "         other       0.55      0.46      0.50        13\n",
            "  threat_actor       0.90      0.69      0.78        13\n",
            " vulnerability       0.67      0.80      0.73        10\n",
            "\n",
            "      accuracy                           0.76        96\n",
            "     macro avg       0.72      0.70      0.71        96\n",
            "  weighted avg       0.76      0.76      0.76        96\n",
            "\n",
            "Accuracy: 0.7604166666666666\n"
          ]
        }
      ]
    },
    {
      "cell_type": "markdown",
      "source": [
        "3 XGBoost Classifier"
      ],
      "metadata": {
        "id": "pMP921QJ5UEw"
      }
    },
    {
      "cell_type": "code",
      "source": [
        "# XGBoost\n",
        "xgb_model = XGBClassifier(random_state=42)\n",
        "xgb_model.fit(X_train, y_train)\n",
        "\n",
        "# Predictions\n",
        "y_pred_xgb = xgb_model.predict(X_test)\n",
        "\n",
        "# Evaluation\n",
        "print(\"XGBoost Classifier:\")\n",
        "print(classification_report(y_test, y_pred_xgb, target_names=label_encoder.classes_))\n",
        "print(\"Accuracy:\", accuracy_score(y_test, y_pred_xgb))"
      ],
      "metadata": {
        "colab": {
          "base_uri": "https://localhost:8080/"
        },
        "id": "EoCdovKE5NfQ",
        "outputId": "125dfa84-b087-4b56-fb7d-c8ec6b2d2558"
      },
      "execution_count": 26,
      "outputs": [
        {
          "output_type": "stream",
          "name": "stdout",
          "text": [
            "XGBoost Classifier:\n",
            "                precision    recall  f1-score   support\n",
            "\n",
            "attack_pattern       0.82      0.60      0.69        15\n",
            "       malware       0.79      0.93      0.86        45\n",
            "         other       0.88      0.54      0.67        13\n",
            "  threat_actor       0.82      0.69      0.75        13\n",
            " vulnerability       0.69      0.90      0.78        10\n",
            "\n",
            "      accuracy                           0.79        96\n",
            "     macro avg       0.80      0.73      0.75        96\n",
            "  weighted avg       0.80      0.79      0.78        96\n",
            "\n",
            "Accuracy: 0.7916666666666666\n"
          ]
        }
      ]
    },
    {
      "cell_type": "markdown",
      "source": [
        ".4 Naive Bayes Classifier"
      ],
      "metadata": {
        "id": "DvH9iJrT5XNr"
      }
    },
    {
      "cell_type": "code",
      "source": [
        "# Naive Bayes\n",
        "nb_model = MultinomialNB()\n",
        "nb_model.fit(X_train, y_train)\n",
        "\n",
        "# Predictions\n",
        "y_pred_nb = nb_model.predict(X_test)\n",
        "\n",
        "# Evaluation\n",
        "print(\"Naive Bayes Classifier:\")\n",
        "print(classification_report(y_test, y_pred_nb, target_names=label_encoder.classes_))\n",
        "print(\"Accuracy:\", accuracy_score(y_test, y_pred_nb))"
      ],
      "metadata": {
        "colab": {
          "base_uri": "https://localhost:8080/"
        },
        "id": "vM8Rfpkz5V1c",
        "outputId": "9ea1931e-506f-428b-f41a-8b90d8a61390"
      },
      "execution_count": 27,
      "outputs": [
        {
          "output_type": "stream",
          "name": "stdout",
          "text": [
            "Naive Bayes Classifier:\n",
            "                precision    recall  f1-score   support\n",
            "\n",
            "attack_pattern       0.43      0.20      0.27        15\n",
            "       malware       0.46      0.82      0.59        45\n",
            "         other       0.00      0.00      0.00        13\n",
            "  threat_actor       0.33      0.23      0.27        13\n",
            " vulnerability       0.00      0.00      0.00        10\n",
            "\n",
            "      accuracy                           0.45        96\n",
            "     macro avg       0.24      0.25      0.23        96\n",
            "  weighted avg       0.33      0.45      0.36        96\n",
            "\n",
            "Accuracy: 0.4479166666666667\n"
          ]
        },
        {
          "output_type": "stream",
          "name": "stderr",
          "text": [
            "/usr/local/lib/python3.11/dist-packages/sklearn/metrics/_classification.py:1565: UndefinedMetricWarning: Precision is ill-defined and being set to 0.0 in labels with no predicted samples. Use `zero_division` parameter to control this behavior.\n",
            "  _warn_prf(average, modifier, f\"{metric.capitalize()} is\", len(result))\n",
            "/usr/local/lib/python3.11/dist-packages/sklearn/metrics/_classification.py:1565: UndefinedMetricWarning: Precision is ill-defined and being set to 0.0 in labels with no predicted samples. Use `zero_division` parameter to control this behavior.\n",
            "  _warn_prf(average, modifier, f\"{metric.capitalize()} is\", len(result))\n",
            "/usr/local/lib/python3.11/dist-packages/sklearn/metrics/_classification.py:1565: UndefinedMetricWarning: Precision is ill-defined and being set to 0.0 in labels with no predicted samples. Use `zero_division` parameter to control this behavior.\n",
            "  _warn_prf(average, modifier, f\"{metric.capitalize()} is\", len(result))\n"
          ]
        }
      ]
    },
    {
      "cell_type": "markdown",
      "source": [
        "Model Evaluation and Selection"
      ],
      "metadata": {
        "id": "xEvb424i5fCP"
      }
    },
    {
      "cell_type": "code",
      "source": [
        "# Compare model performances\n",
        "models = {\n",
        "    'Random Forest': y_pred_rf,\n",
        "    'SVM': y_pred_svm,\n",
        "    'XGBoost': y_pred_xgb,\n",
        "    'Naive Bayes': y_pred_nb\n",
        "}\n",
        "\n",
        "for name, pred in models.items():\n",
        "    print(f\"\\n{name} Performance:\")\n",
        "    print(\"Accuracy:\", accuracy_score(y_test, pred))\n",
        "    print(classification_report(y_test, pred, target_names=label_encoder.classes_))\n",
        "\n",
        "# Plot confusion matrix for the best model\n",
        "best_model = xgb_model  # Assuming XGBoost performed best\n",
        "y_pred_best = y_pred_xgb\n",
        "\n",
        "plt.figure(figsize=(10, 7))\n",
        "cm = confusion_matrix(y_test, y_pred_best)\n",
        "sns.heatmap(cm, annot=True, fmt='d', cmap='Blues',\n",
        "            xticklabels=label_encoder.classes_,\n",
        "            yticklabels=label_encoder.classes_)\n",
        "plt.title('Confusion Matrix')\n",
        "plt.xlabel('Predicted')\n",
        "plt.ylabel('Actual')\n",
        "plt.show()"
      ],
      "metadata": {
        "colab": {
          "base_uri": "https://localhost:8080/",
          "height": 1000
        },
        "id": "_it4uSKD5fn9",
        "outputId": "69e56a60-dff5-4306-d617-08d42bb1bb6e"
      },
      "execution_count": 28,
      "outputs": [
        {
          "output_type": "stream",
          "name": "stdout",
          "text": [
            "\n",
            "Random Forest Performance:\n",
            "Accuracy: 0.8125\n",
            "                precision    recall  f1-score   support\n",
            "\n",
            "attack_pattern       0.91      0.67      0.77        15\n",
            "       malware       0.76      1.00      0.87        45\n",
            "         other       0.86      0.46      0.60        13\n",
            "  threat_actor       1.00      0.77      0.87        13\n",
            " vulnerability       0.78      0.70      0.74        10\n",
            "\n",
            "      accuracy                           0.81        96\n",
            "     macro avg       0.86      0.72      0.77        96\n",
            "  weighted avg       0.83      0.81      0.80        96\n",
            "\n",
            "\n",
            "SVM Performance:\n",
            "Accuracy: 0.7604166666666666\n",
            "                precision    recall  f1-score   support\n",
            "\n",
            "attack_pattern       0.67      0.67      0.67        15\n",
            "       malware       0.83      0.89      0.86        45\n",
            "         other       0.55      0.46      0.50        13\n",
            "  threat_actor       0.90      0.69      0.78        13\n",
            " vulnerability       0.67      0.80      0.73        10\n",
            "\n",
            "      accuracy                           0.76        96\n",
            "     macro avg       0.72      0.70      0.71        96\n",
            "  weighted avg       0.76      0.76      0.76        96\n",
            "\n",
            "\n",
            "XGBoost Performance:\n",
            "Accuracy: 0.7916666666666666\n",
            "                precision    recall  f1-score   support\n",
            "\n",
            "attack_pattern       0.82      0.60      0.69        15\n",
            "       malware       0.79      0.93      0.86        45\n",
            "         other       0.88      0.54      0.67        13\n",
            "  threat_actor       0.82      0.69      0.75        13\n",
            " vulnerability       0.69      0.90      0.78        10\n",
            "\n",
            "      accuracy                           0.79        96\n",
            "     macro avg       0.80      0.73      0.75        96\n",
            "  weighted avg       0.80      0.79      0.78        96\n",
            "\n",
            "\n",
            "Naive Bayes Performance:\n",
            "Accuracy: 0.4479166666666667\n",
            "                precision    recall  f1-score   support\n",
            "\n",
            "attack_pattern       0.43      0.20      0.27        15\n",
            "       malware       0.46      0.82      0.59        45\n",
            "         other       0.00      0.00      0.00        13\n",
            "  threat_actor       0.33      0.23      0.27        13\n",
            " vulnerability       0.00      0.00      0.00        10\n",
            "\n",
            "      accuracy                           0.45        96\n",
            "     macro avg       0.24      0.25      0.23        96\n",
            "  weighted avg       0.33      0.45      0.36        96\n",
            "\n"
          ]
        },
        {
          "output_type": "stream",
          "name": "stderr",
          "text": [
            "/usr/local/lib/python3.11/dist-packages/sklearn/metrics/_classification.py:1565: UndefinedMetricWarning: Precision is ill-defined and being set to 0.0 in labels with no predicted samples. Use `zero_division` parameter to control this behavior.\n",
            "  _warn_prf(average, modifier, f\"{metric.capitalize()} is\", len(result))\n",
            "/usr/local/lib/python3.11/dist-packages/sklearn/metrics/_classification.py:1565: UndefinedMetricWarning: Precision is ill-defined and being set to 0.0 in labels with no predicted samples. Use `zero_division` parameter to control this behavior.\n",
            "  _warn_prf(average, modifier, f\"{metric.capitalize()} is\", len(result))\n",
            "/usr/local/lib/python3.11/dist-packages/sklearn/metrics/_classification.py:1565: UndefinedMetricWarning: Precision is ill-defined and being set to 0.0 in labels with no predicted samples. Use `zero_division` parameter to control this behavior.\n",
            "  _warn_prf(average, modifier, f\"{metric.capitalize()} is\", len(result))\n"
          ]
        },
        {
          "output_type": "display_data",
          "data": {
            "text/plain": [
              "<Figure size 1000x700 with 2 Axes>"
            ],
            "image/png": "[encoded data removed]"
          },
          "metadata": {}
        }
      ]
    },
    {
      "cell_type": "markdown",
      "source": [
        "Hyperparameter Tuning (Optional)\n",
        "To improve model performance, we can perform hyperparameter tuning:"
      ],
      "metadata": {
        "id": "e333s2g15ikL"
      }
    },
    {
      "cell_type": "code",
      "source": [
        "# Example for XGBoost\n",
        "param_grid = {\n",
        "    'n_estimators': [100, 200, 300],\n",
        "    'max_depth': [3, 5, 7],\n",
        "    'learning_rate': [0.01, 0.1, 0.2],\n",
        "    'subsample': [0.8, 0.9, 1.0]\n",
        "}\n",
        "\n",
        "grid_search = GridSearchCV(\n",
        "    estimator=XGBClassifier(random_state=42),\n",
        "    param_grid=param_grid,\n",
        "    cv=3,\n",
        "    n_jobs=-1,\n",
        "    scoring='accuracy'\n",
        ")\n",
        "\n",
        "grid_search.fit(X_train, y_train)\n",
        "\n",
        "# Best parameters\n",
        "print(\"Best parameters:\", grid_search.best_params_)\n",
        "\n",
        "# Best model\n",
        "best_xgb = grid_search.best_estimator_\n",
        "y_pred_tuned = best_xgb.predict(X_test)\n",
        "\n",
        "print(\"Tuned XGBoost Performance:\")\n",
        "print(classification_report(y_test, y_pred_tuned, target_names=label_encoder.classes_))\n",
        "print(\"Accuracy:\", accuracy_score(y_test, y_pred_tuned))"
      ],
      "metadata": {
        "colab": {
          "base_uri": "https://localhost:8080/"
        },
        "id": "GWnFbSRa5kFA",
        "outputId": "98998242-386c-46cb-adf6-d4f2934db9a2"
      },
      "execution_count": 29,
      "outputs": [
        {
          "output_type": "stream",
          "name": "stdout",
          "text": [
            "Best parameters: {'learning_rate': 0.1, 'max_depth': 3, 'n_estimators': 300, 'subsample': 0.9}\n",
            "Tuned XGBoost Performance:\n",
            "                precision    recall  f1-score   support\n",
            "\n",
            "attack_pattern       0.91      0.67      0.77        15\n",
            "       malware       0.79      0.93      0.86        45\n",
            "         other       0.88      0.54      0.67        13\n",
            "  threat_actor       0.83      0.77      0.80        13\n",
            " vulnerability       0.67      0.80      0.73        10\n",
            "\n",
            "      accuracy                           0.80        96\n",
            "     macro avg       0.82      0.74      0.76        96\n",
            "  weighted avg       0.81      0.80      0.80        96\n",
            "\n",
            "Accuracy: 0.8020833333333334\n"
          ]
        }
      ]
    },
    {
      "cell_type": "markdown",
      "source": [
        " Feature Importance Analysis"
      ],
      "metadata": {
        "id": "-1lZdrWo5mtr"
      }
    },
    {
      "cell_type": "code",
      "source": [
        "# For tree-based models (XGBoost or Random Forest)\n",
        "feature_names = tfidf_vectorizer.get_feature_names_out().tolist() + \\\n",
        "                ['solution_count', 'text_length', 'diagnosis_length', 'solutions_length'] + \\\n",
        "                severity_encoded.columns.tolist()\n",
        "\n",
        "# Get feature importances\n",
        "importances = best_model.feature_importances_\n",
        "\n",
        "# Create a DataFrame for visualization\n",
        "feature_importance = pd.DataFrame({\n",
        "    'Feature': feature_names,\n",
        "    'Importance': importances\n",
        "}).sort_values('Importance', ascending=False)\n",
        "\n",
        "# Plot top 20 features\n",
        "plt.figure(figsize=(10, 8))\n",
        "sns.barplot(x='Importance', y='Feature', data=feature_importance.head(20))\n",
        "plt.title('Top 20 Important Features')\n",
        "plt.show()"
      ],
      "metadata": {
        "colab": {
          "base_uri": "https://localhost:8080/",
          "height": 489
        },
        "id": "abNTccS65nZs",
        "outputId": "9d73e40e-4198-4806-a399-20e824b82bd8"
      },
      "execution_count": 30,
      "outputs": [
        {
          "output_type": "display_data",
          "data": {
            "text/plain": [
              "<Figure size 1000x800 with 1 Axes>"
            ],
            "image/png": "[encoded data removed]"
          },
          "metadata": {}
        }
      ]
    },
    {
      "cell_type": "markdown",
      "source": [
        "Model Deployment and Prediction\n",
        "Once we've selected the best model, we can use it for predictions:"
      ],
      "metadata": {
        "id": "r5eUQ98K5qCJ"
      }
    },
    {
      "cell_type": "code",
      "source": [
        "# Function to preprocess new data\n",
        "def preprocess_new_data(text, diagnosis, solutions):\n",
        "    # Clean text - rename the variables to avoid conflict with function name\n",
        "    cleaned_text = clean_text(text)  # Changed variable name to cleaned_text\n",
        "    cleaned_diagnosis = clean_text(diagnosis)  # Changed variable name to cleaned_diagnosis\n",
        "    cleaned_solutions = clean_text(solutions)  # Changed variable name to cleaned_solutions\n",
        "\n",
        "    # Combine text\n",
        "    combined_text = cleaned_text + ' ' + cleaned_diagnosis + ' ' + cleaned_solutions\n",
        "\n",
        "    # Lemmatize\n",
        "    processed_text = lemmatize_text(combined_text)\n",
        "\n",
        "    # Create features\n",
        "    text_features = tfidf_vectorizer.transform([processed_text])\n",
        "    solution_count = len(solutions.split('.')) - 1\n",
        "    text_length = len(text)\n",
        "    diagnosis_length = len(diagnosis)\n",
        "    solutions_length = len(solutions)\n",
        "\n",
        "    # Create severity feature\n",
        "    severity = extract_severity(diagnosis)\n",
        "    severity_encoded = pd.DataFrame(columns=['severity_high', 'severity_low', 'severity_medium'])\n",
        "    severity_encoded.loc[0] = [0, 0, 0]  # Initialize with zeros\n",
        "    severity_encoded[f'severity_{severity}'] = 1\n",
        "\n",
        "    # Combine all features\n",
        "    structured_features = np.array([[solution_count, text_length, diagnosis_length, solutions_length]])\n",
        "    X_new = hstack([text_features, structured_features, severity_encoded])\n",
        "\n",
        "    return X_new\n",
        "\n",
        "# Example prediction\n",
        "sample_text = \"A new variant of the Emotet malware was detected spreading through malicious Word documents in phishing emails.\"\n",
        "sample_diagnosis = \"The malware uses macros in Word documents to download and execute payloads, creating backdoors in infected systems.\"\n",
        "sample_solutions = \"1. Disable macros in Office documents. 2. Implement email filtering to block malicious attachments. 3. Update endpoint protection software.\"\n",
        "# Preprocess\n",
        "X_new = preprocess_new_data(sample_text, sample_diagnosis, sample_solutions)\n",
        "\n",
        "# Predict\n",
        "prediction = best_model.predict(X_new)\n",
        "prediction_proba = best_model.predict_proba(X_new)\n",
        "\n",
        "# Decode prediction\n",
        "predicted_class = label_encoder.inverse_transform(prediction)[0]\n",
        "class_probabilities = dict(zip(label_encoder.classes_, prediction_proba[0]))\n",
        "\n",
        "print(f\"Predicted Threat Type: {predicted_class}\")\n",
        "print(\"Class Probabilities:\")\n",
        "for class_name, prob in class_probabilities.items():\n",
        "    print(f\"{class_name}: {prob:.4f}\")"
      ],
      "metadata": {
        "colab": {
          "base_uri": "https://localhost:8080/"
        },
        "id": "JMWsP4YN5rJ-",
        "outputId": "5f47adf3-7758-4bba-82db-17d7bd52c8c2"
      },
      "execution_count": 33,
      "outputs": [
        {
          "output_type": "stream",
          "name": "stdout",
          "text": [
            "Predicted Threat Type: malware\n",
            "Class Probabilities:\n",
            "attack_pattern: 0.0001\n",
            "malware: 0.9996\n",
            "other: 0.0002\n",
            "threat_actor: 0.0000\n",
            "vulnerability: 0.0001\n"
          ]
        }
      ]
    },
    {
      "cell_type": "code",
      "source": [],
      "metadata": {
        "id": "_EJraxcH9XMb"
      },
      "execution_count": null,
      "outputs": []
    }
  ]
}